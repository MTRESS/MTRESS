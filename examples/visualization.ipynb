{
 "cells": [
  {
   "cell_type": "code",
   "execution_count": null,
   "metadata": {},
   "outputs": [],
   "source": [
    "import sys\n",
    "sys.path.append(\"../\")"
   ]
  },
  {
   "cell_type": "code",
   "execution_count": null,
   "metadata": {},
   "outputs": [],
   "source": [
    "from mtress import Location, MetaModel, SolphModel, carriers, demands, technologies\n",
    "\n",
    "energy_system = MetaModel()\n",
    "\n",
    "house_1 = Location(name=\"House 1\")\n",
    "energy_system.add_location(house_1)\n",
    "\n",
    "house_1.add_carrier(carriers.Electricity(working_rate=35, demand_rate=0))\n",
    "\n",
    "house_1.add_demand(demands.Electricity(name=\"Bla\", time_series=[9]))\n",
    "\n",
    "house_1.add_carrier(\n",
    "    carriers.Heat(\n",
    "        temperature_levels=[20, 30, 55],\n",
    "        reference_temperature=10,\n",
    "    )\n",
    ")\n",
    "house_1.add_demand(\n",
    "    demands.FixedTemperatureHeat(\n",
    "        name=\"Space heating\",\n",
    "        flow_temperature=30,\n",
    "        return_temperature=20,\n",
    "        time_series=[50],\n",
    "    )\n",
    ")\n",
    "house_1.add_demand(\n",
    "    demands.FixedTemperatureHeat(\n",
    "        name=\"Domestic hot water\",\n",
    "        flow_temperature=55,\n",
    "        return_temperature=10,\n",
    "        time_series=[3],\n",
    "    )\n",
    ")\n",
    "\n",
    "house_1.add_technology(technologies.HeatPump(name=\"Heat pump\", thermal_power_limit=None))\n",
    "\n",
    "house_1.add_technology(technologies.AirHeatExchanger(name=\"Air heat exchanger\", air_temperatures=[3]))\n",
    "\n",
    "solph_representation = SolphModel(\n",
    "    energy_system,\n",
    "    timeindex={\n",
    "        \"start\": \"2021-07-10 00:00:00\",\n",
    "        \"end\": \"2021-07-10 00:00:00\",\n",
    "        \"freq\": \"60T\",\n",
    "    },\n",
    ")\n",
    "\n",
    "solph_representation.build_solph_energy_system()"
   ]
  },
  {
   "cell_type": "code",
   "execution_count": null,
   "metadata": {},
   "outputs": [],
   "source": [
    "solph_representation.graph(detail=False)"
   ]
  },
  {
   "cell_type": "code",
   "execution_count": null,
   "metadata": {},
   "outputs": [],
   "source": [
    "solph_representation.graph(detail=True)"
   ]
  }
 ],
 "metadata": {
  "interpreter": {
   "hash": "3e10cd8cf1afa828d59899150d710fb56ec9c91aac9b78eb1556bd232a2243dd"
  },
  "kernelspec": {
   "display_name": "Python 3.10.6 ('systogen100')",
   "language": "python",
   "name": "python3"
  },
  "language_info": {
   "codemirror_mode": {
    "name": "ipython",
    "version": 3
   },
   "file_extension": ".py",
   "mimetype": "text/x-python",
   "name": "python",
   "nbconvert_exporter": "python",
   "pygments_lexer": "ipython3",
   "version": "3.10.6"
  },
  "orig_nbformat": 4
 },
 "nbformat": 4,
 "nbformat_minor": 2
}
